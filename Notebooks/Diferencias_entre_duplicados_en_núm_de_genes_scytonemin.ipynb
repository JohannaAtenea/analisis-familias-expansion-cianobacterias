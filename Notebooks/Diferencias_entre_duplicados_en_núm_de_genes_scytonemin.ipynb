{
 "cells": [
  {
   "cell_type": "markdown",
   "id": "762b518c-b4aa-47be-9e1a-cc1932e32951",
   "metadata": {},
   "source": [
    "## 🧬 Diferencias_entre_duplicados_en_numero_genes_scytonemin.ipynb\n",
    "\n",
    "**Autor:** Johanna Atenea Carreon Baltazar  \n",
    "**Contacto:** johannaatenea13@gmail.com \n",
    "**Fecha de última modificación:** junio de 2025\n",
    "\n",
    "---\n",
    "\n",
    "### 🎯 Objetivo\n",
    "\n",
    "Analizar la distribución de los genes que conforman el **clúster responsable de la producción de scytonemin** en los genomas del grupo de estudio. El análisis se realiza en términos de la **distancia (en número de genes)** entre los genes del clúster dentro de cada genoma, con el fin de evaluar si su distribución es compacta o dispersa.\n",
    "\n",
    "---\n",
    "\n",
    "### 📥 Entradas requeridas\n",
    "\n",
    "- `diccionario.txt`:  \n",
    "  Diccionario cuyas claves son los identificadores de los genomas que contienen el clúster de scytonemin y cuyos valores son listas con los identificadores de los genes del clúster en orden genómico.\n",
    "\n",
    "- Archivos `.gbk`:  \n",
    "  Archivos de anotación por genoma generados con RAST, utilizados para contar el número total de genes en cada genoma.\n",
    "\n",
    "---\n",
    "\n",
    "### 📤 Salidas generadas\n",
    "\n",
    "- `resultados_en_numero_genes_scytonemin.pkl`:  \n",
    "  Diccionario que almacena las diferencias (en número de genes) entre genes del clúster de scytonemin para cada genoma. Incluye tanto diferencias consecutivas como la distancia circular (último-primer gen).\n",
    "\n",
    "- Estadísticas descriptivas de las diferencias calculadas:\n",
    "  - Promedio\n",
    "  - Mediana\n",
    "  - Desviación estándar\n",
    "  - Rango intercuartílico (IQR)\n",
    "  - Número de genomas analizados\n",
    "\n",
    "---\n",
    "\n",
    "### 🧰 Librerías requeridas\n",
    "\n",
    "```python\n",
    "import pickle\n",
    "import pandas as pd\n",
    "import numpy as np\n"
   ]
  },
  {
   "cell_type": "markdown",
   "id": "2130bde2-280e-4fc3-a2bc-492afe6b1678",
   "metadata": {},
   "source": [
    "# Pipeline\n",
    "---\n",
    "\n",
    "\n",
    "### 1. Importación de los archivos `diccionario.txt`.\n",
    "\n",
    "Estos archivos contienen diccionarios con información sobre los genes que forman parte del clúster responsable de producit scytonemin. Las claves corresponden a los identificadores de los genomas, mientras que los valores son listas de identificadores de los genes del clúster en cada genoma.\n",
    "\n",
    "Un aspecto importante es que estos identificadores mantienen el orden en el que los genes están localizados dentro del genoma. Esta organización se puede verificar en detalle en los archivos .gbk, obtenidos tras la anotación de cada genoma con RAST.\n",
    "\n",
    "**Ejemplo de estructura del diccionario:**\n",
    "\n",
    "```python\n",
    "genes_en_clúster_scytonemin = {\n",
    "    2914041.10: [4092, 4899, 903, 1259, 3694, 2151, 936, 4764, 5875, 2666, 1072, 1013, 655, 1058, 5341, 977],\n",
    "    ...\n",
    "```\n",
    "---\n",
    "### 2. Ordenamos los identificadores de los genes  para cada genoma.\n",
    "---\n",
    "### 3. Contamos los genes para cada genoma\n",
    "De manera análoga al cálculo de diferencias entre genes duplicados en el caso general, donde utilizamos la longitud del genoma en pares de bases para calcular la diferencia entre el primer y el último gen duplicado, en este caso, para determinar la diferencia entre estos genes en términos del número de genes que los separan, es necesario conocer el número total de genes en cada genoma.\n",
    "\n",
    "Para obtener esta información, utilizamos archivos de anotación generados por RAST. A partir de estos archivos, aplicamos un filtrado que nos permitió contar el número total de genes en cada genoma, incluyendo tanto los genes codificantes de proteínas como aquellos que codifican ARN.\n",
    "\n",
    "---\n",
    "### 4. Calcular la diferencia entre genes  de cada genoma en número de genes.\n",
    " Se calculan las diferencias entre los genes en el clúster de cada genoma, . Estas diferencias se almacenan en el diccionario  llamado `resultados_en_numero_genes_scytonemin.pkl',` enes que separan a cada par de genes duplicados dentro del mismo genoma.\n",
    "\n",
    "---\n",
    "### 4. Estadisticas descriptivas para el diccionario anterior"
   ]
  },
  {
   "cell_type": "markdown",
   "id": "9155ddbe-979b-4d42-ab08-0469fe29d834",
   "metadata": {},
   "source": [
    "## Importar los diccionarios"
   ]
  },
  {
   "cell_type": "code",
   "execution_count": 2,
   "id": "bd2f93e2-8999-4016-baaf-fc4037a00143",
   "metadata": {},
   "outputs": [],
   "source": [
    "import pickle\n",
    "import pandas as pd\n",
    "import numpy as np"
   ]
  },
  {
   "cell_type": "markdown",
   "id": "3d280259-41d7-43b8-b57b-602eb9cccef9",
   "metadata": {},
   "source": [
    "### genes con presencia de scytonemin"
   ]
  },
  {
   "cell_type": "code",
   "execution_count": 34,
   "id": "aa64cabe-7457-48f4-a9bf-2aec71f5be40",
   "metadata": {},
   "outputs": [
    {
     "name": "stdout",
     "output_type": "stream",
     "text": [
      "{'1472755.9': [6283, 6285, 6286, 6287, 5043, 6288, 6289, 6290, 6291, 6292, 6293, 6294, 6295, 6297, 6298, 6299, 6301, 6305, 6306, 5281, 5280, 5279, 5278, 5277], '1618022.9': [3450, 2310, 2308, 2307, 4346, 2306, 2304, 2301, 2300, 2299, 2298, 2297, 2296, 2295, 2293, 2292, 2291, 2290, 2287, 5954, 5955, 5956, 5957, 5958], '1751286.15': [1871, 1872, 1873, 5018, 1875, 1876, 1877, 1890], '1914872.23': [3633, 3632, 3631, 4367, 3630, 3628, 3614, 3613], '2038116.21': [5474, 819, 818, 816, 6104, 815, 814, 813, 812, 811, 809, 808, 807, 805, 804, 803, 801, 800, 5958, 5956, 5955, 5954, 5953], '2572090.7': [3000, 3001, 3003, 3004, 6795, 3005, 3007, 3008, 3009, 3010, 3010, 3011, 3012, 3014, 3015, 3016, 3017, 3019, 3020, 455, 456, 457, 458, 459], '2576902.6': [3073, 349, 348, 347, 346, 345], '2576903.5': [7148, 7147, 7146, 7145, 5291, 7144, 7143, 7142, 7141, 7140, 7139, 7138, 7137, 7136, 7135, 7134, 7133, 7132, 7129, 7128, 2818, 2817, 2816, 2815, 2814], '2653204.7': [2225, 2224, 2223, 5806, 2222, 2220, 2219, 2218, 2216, 2215, 2213, 2211, 2210, 2209, 2208, 2205, 2204, 2587, 2588, 2589, 2590, 2591], '2764711.14': [3189, 3190, 3191, 5421, 3193, 3194, 3209], '3025190.14': [4397, 4636, 4637, 4638, 1815, 4639, 4640, 4643, 4644, 4645, 4647, 4648, 3513, 4649, 4651, 4652, 4653, 4654, 4656, 427, 428, 429, 430, 431], '3134896.7': [3541, 1360, 1394, 1362, 3681, 1363, 1366, 1367, 5203, 1378, 1379, 1380, 6984], '3349875.4': [1105, 1104, 1103, 1556, 1101, 1100, 1099, 1098, 1097, 1096, 1095, 1092, 1091, 1090, 1088, 1085, 1084, 5283, 5284, 5285, 5286, 5287], '3349876.5': [4792, 4791, 4790, 4789, 5840, 4788, 4787, 4786, 4785, 4784, 4783, 4782, 4781, 4779, 4778, 4777, 4776, 4773, 4772, 1619, 1618, 1617, 1616, 1615], '446679.11': [6465, 6466, 6467, 2755, 6468, 6471, 6472, 6473, 6475, 6476, 6478, 6480, 6481, 6482, 6483, 6486, 6485, 6487, 6082, 6081, 6080, 6079, 6078], '449208.14': [7235, 31, 32, 33, 6798, 35, 36, 37, 38, 39, 40, 41, 42, 44, 48, 47, 50, 49, 51, 52, 53, 58, 59, 4550, 4551, 4552, 4554, 4572], '63737.69': [1452, 1453, 1454, 1455, 4935, 1456, 1457, 1459, 1460, 1461, 1462, 1463, 1464, 1465, 1466, 1467, 1468, 1469, 1470, 1473, 1474, 6142, 6143, 6144, 6145, 6146], '76335.23': [6725, 6724, 6723, 6722, 4402, 6721, 6719, 6718, 6717, 6716, 6715, 6714, 6713, 6712, 6711, 6710, 6709, 6708, 6705, 6704, 1938, 1939, 1940, 1941, 1942]}\n"
     ]
    }
   ],
   "source": [
    "import ast\n",
    "\n",
    "with open(\"diccionario.txt\", \"r\") as f:\n",
    "    genes = ast.literal_eval(f.read())\n",
    "\n",
    "# Ya puedes usar genes_dict como un diccionario normal\n",
    "print(genes)"
   ]
  },
  {
   "cell_type": "markdown",
   "id": "4081d659-81a3-4ad6-a960-d3cf4fbbc3c9",
   "metadata": {},
   "source": [
    "## Ordenamiento de los indices de los genes duplicados los diccionarios `genes_scytonemin`"
   ]
  },
  {
   "cell_type": "code",
   "execution_count": 12,
   "id": "2e930b28-1a98-466d-9f56-0a8fc5d3ccdb",
   "metadata": {},
   "outputs": [],
   "source": [
    "#quitar comillas\n",
    "genes_scytonemin1 = {float(k): v for k, v in genes.items()}\n",
    "#ordenar valores de cada clave\n",
    "genes_scytonemin = {k: sorted(v) for k, v in genes_scytonemin1.items()}"
   ]
  },
  {
   "cell_type": "code",
   "execution_count": 13,
   "id": "628b6ac4-bb75-48a5-ba84-4cd479e4f26f",
   "metadata": {},
   "outputs": [
    {
     "name": "stdout",
     "output_type": "stream",
     "text": [
      "{1472755.9: [5043, 5277, 5278, 5279, 5280, 5281, 6283, 6285, 6286, 6287, 6288, 6289, 6290, 6291, 6292, 6293, 6294, 6295, 6297, 6298, 6299, 6301, 6305, 6306], 1618022.9: [2287, 2290, 2291, 2292, 2293, 2295, 2296, 2297, 2298, 2299, 2300, 2301, 2304, 2306, 2307, 2308, 2310, 3450, 4346, 5954, 5955, 5956, 5957, 5958], 1751286.15: [1871, 1872, 1873, 1875, 1876, 1877, 1890, 5018], 1914872.23: [3613, 3614, 3628, 3630, 3631, 3632, 3633, 4367], 2038116.21: [800, 801, 803, 804, 805, 807, 808, 809, 811, 812, 813, 814, 815, 816, 818, 819, 5474, 5953, 5954, 5955, 5956, 5958, 6104], 2572090.7: [455, 456, 457, 458, 459, 3000, 3001, 3003, 3004, 3005, 3007, 3008, 3009, 3010, 3010, 3011, 3012, 3014, 3015, 3016, 3017, 3019, 3020, 6795], 2576902.6: [345, 346, 347, 348, 349, 3073], 2576903.5: [2814, 2815, 2816, 2817, 2818, 5291, 7128, 7129, 7132, 7133, 7134, 7135, 7136, 7137, 7138, 7139, 7140, 7141, 7142, 7143, 7144, 7145, 7146, 7147, 7148], 2653204.7: [2204, 2205, 2208, 2209, 2210, 2211, 2213, 2215, 2216, 2218, 2219, 2220, 2222, 2223, 2224, 2225, 2587, 2588, 2589, 2590, 2591, 5806], 2764711.14: [3189, 3190, 3191, 3193, 3194, 3209, 5421], 3025190.14: [427, 428, 429, 430, 431, 1815, 3513, 4397, 4636, 4637, 4638, 4639, 4640, 4643, 4644, 4645, 4647, 4648, 4649, 4651, 4652, 4653, 4654, 4656], 3134896.7: [1360, 1362, 1363, 1366, 1367, 1378, 1379, 1380, 1394, 3541, 3681, 5203, 6984], 3349875.4: [1084, 1085, 1088, 1090, 1091, 1092, 1095, 1096, 1097, 1098, 1099, 1100, 1101, 1103, 1104, 1105, 1556, 5283, 5284, 5285, 5286, 5287], 3349876.5: [1615, 1616, 1617, 1618, 1619, 4772, 4773, 4776, 4777, 4778, 4779, 4781, 4782, 4783, 4784, 4785, 4786, 4787, 4788, 4789, 4790, 4791, 4792, 5840], 446679.11: [2755, 6078, 6079, 6080, 6081, 6082, 6465, 6466, 6467, 6468, 6471, 6472, 6473, 6475, 6476, 6478, 6480, 6481, 6482, 6483, 6485, 6486, 6487], 449208.14: [31, 32, 33, 35, 36, 37, 38, 39, 40, 41, 42, 44, 47, 48, 49, 50, 51, 52, 53, 58, 59, 4550, 4551, 4552, 4554, 4572, 6798, 7235], 63737.69: [1452, 1453, 1454, 1455, 1456, 1457, 1459, 1460, 1461, 1462, 1463, 1464, 1465, 1466, 1467, 1468, 1469, 1470, 1473, 1474, 4935, 6142, 6143, 6144, 6145, 6146], 76335.23: [1938, 1939, 1940, 1941, 1942, 4402, 6704, 6705, 6708, 6709, 6710, 6711, 6712, 6713, 6714, 6715, 6716, 6717, 6718, 6719, 6721, 6722, 6723, 6724, 6725]}\n"
     ]
    }
   ],
   "source": [
    "print(genes_scytonemin)"
   ]
  },
  {
   "cell_type": "markdown",
   "id": "5cdf1065-e1dc-4d33-870d-5cdfce1bcb87",
   "metadata": {},
   "source": [
    "## Conteo del número de genes de cada genoma\n",
    "En el archivo .txt los tres tipos que aparecen (peg, rna y repeat) corresponden a diferentes tipos de características funcionales o estructurales identificadas en los genomas\n",
    "\n",
    "    peg: Genes codificantes de proteínas.\n",
    "    rna: Genes que codifican ARN.\n",
    "    repeat: Secuencias repetitivas en el genoma.(Los repeat no son genes en sí mismos, sino secuencias repetitivas, por lo que no se deben contar como genes.)\n",
    "\n",
    "¿Cómo contar solo los genes?\n",
    "\n",
    "Si queremos contar únicamente  los genes funcionales, sólo se deben contar únicamente los registros de tipo peg.\n",
    "\n",
    "cat 103690.82.txt | grep 'peg' | wc -l\n",
    "\n",
    "Este comando te dará el número total de genes codificadores de proteínas (PEG) en el archivo.\n",
    "\n",
    "Incluir los genes de ARN\n",
    "\n",
    "Si también te interesa contar los genes de ARN (por ejemplo, los tRNA o rRNA), puedes incluir los registros de tipo rna:\n",
    "\n",
    "cat 103690.82.txt | grep -E 'peg|rna' | wc -l\n"
   ]
  },
  {
   "cell_type": "markdown",
   "id": "80467e0c-02ba-4ae6-8d57-82337be70d8d",
   "metadata": {},
   "source": [
    "### nosotros sólo contaremos los genes funcionales"
   ]
  },
  {
   "cell_type": "code",
   "execution_count": 17,
   "id": "451a65a4-e601-4584-974f-0794401bda96",
   "metadata": {},
   "outputs": [
    {
     "name": "stdout",
     "output_type": "stream",
     "text": [
      "     genome_id  number_of_genes\n",
      "0    103690.82             5854\n",
      "1   1472755.90             7399\n",
      "2   1618022.90             7179\n",
      "3   1647413.14             5966\n",
      "4   1751286.15             5882\n",
      "5   1869241.20             6531\n",
      "6   1914872.23             5088\n",
      "7   2038116.21             9232\n",
      "8    211165.20             7334\n",
      "9   2490939.10             6410\n",
      "10  2572090.70             7690\n",
      "11  2576902.60             7330\n",
      "12  2576903.50             7252\n",
      "13  2576904.60             6433\n",
      "14  2653204.70             6637\n",
      "15   272123.44             6072\n",
      "16  2764711.14             6648\n",
      "17    28072.26             6098\n",
      "18  2914041.10             5991\n",
      "19  3025190.14             6937\n",
      "20  3134896.70             8176\n",
      "21   317936.27             5929\n",
      "22  3349875.40             7207\n",
      "23  3349876.50             6605\n",
      "24   446679.11             6802\n",
      "25   449208.14             7442\n",
      "26    46234.36             4261\n",
      "27    63737.69             7857\n",
      "28    76335.23             6838\n"
     ]
    }
   ],
   "source": [
    "import pandas as pd\n",
    "# tabla que contiene el numero de genes\n",
    "numero_genes = pd.read_csv('numero_de_genes.csv')\n",
    "print(numero_genes)"
   ]
  },
  {
   "cell_type": "markdown",
   "id": "d4ddb992-932f-48de-a849-0bd33d7696bf",
   "metadata": {},
   "source": [
    "# Función para calcular medir la distancia en número de genes entre genes duplicados"
   ]
  },
  {
   "cell_type": "code",
   "execution_count": 18,
   "id": "7cde90ca-239b-4aff-95a8-0ae1b8f9fe58",
   "metadata": {},
   "outputs": [],
   "source": [
    "# Función para calcular las diferencias considerando la circularidad\n",
    "def calcular_diferencias_circulares(posiciones, num_genes):\n",
    "    # Ordenamos las posiciones de menor a mayor\n",
    "    posiciones_ordenadas = sorted(posiciones)\n",
    "    \n",
    "    diferencias = []\n",
    "    # Calculamos las diferencias entre un gen y el siguiente considerando la circularidad\n",
    "    for i in range(1, len(posiciones_ordenadas)):\n",
    "        diferencia = (posiciones_ordenadas[i] - posiciones_ordenadas[i - 1])\n",
    "        diferencias.append(diferencia)\n",
    "    \n",
    "    # Diferencia circular entre el último gen y el primero\n",
    "    diferencia_circular = (posiciones_ordenadas[0] - posiciones_ordenadas[-1] + num_genes)\n",
    "    diferencias.append(diferencia_circular)\n",
    "    \n",
    "    return diferencias"
   ]
  },
  {
   "cell_type": "markdown",
   "id": "1b19dd17-2cd7-4fbc-a8df-c405382bfd64",
   "metadata": {},
   "source": [
    "### scytonemin"
   ]
  },
  {
   "cell_type": "code",
   "execution_count": 21,
   "id": "b5d35e4c-3e3b-4186-9403-1ed3614fc4e8",
   "metadata": {},
   "outputs": [
    {
     "name": "stdout",
     "output_type": "stream",
     "text": [
      "{1472755.9: [234, 1, 1, 1, 1, 1002, 2, 1, 1, 1, 1, 1, 1, 1, 1, 1, 1, 2, 1, 1, 2, 4, 1, 6136], 1618022.9: [3, 1, 1, 1, 2, 1, 1, 1, 1, 1, 1, 3, 2, 1, 1, 2, 1140, 896, 1608, 1, 1, 1, 1, 3508], 1751286.15: [1, 1, 2, 1, 1, 13, 3128, 2735], 1914872.23: [1, 14, 2, 1, 1, 1, 734, 4334], 2038116.21: [1, 2, 1, 1, 2, 1, 1, 2, 1, 1, 1, 1, 1, 2, 1, 4655, 479, 1, 1, 1, 2, 146, 3928], 2572090.7: [1, 1, 1, 1, 2541, 1, 2, 1, 1, 2, 1, 1, 1, 0, 1, 1, 2, 1, 1, 1, 2, 1, 3775, 1350], 2576902.6: [1, 1, 1, 1, 2724, 4602], 2576903.5: [1, 1, 1, 1, 2473, 1837, 1, 3, 1, 1, 1, 1, 1, 1, 1, 1, 1, 1, 1, 1, 1, 1, 1, 1, 2918], 2653204.7: [1, 3, 1, 1, 1, 2, 2, 1, 2, 1, 1, 2, 1, 1, 1, 362, 1, 1, 1, 1, 3215, 3035], 2764711.14: [1, 1, 2, 1, 15, 2212, 4416], 3025190.14: [1, 1, 1, 1, 1384, 1698, 884, 239, 1, 1, 1, 1, 3, 1, 1, 2, 1, 1, 2, 1, 1, 1, 2, 2708], 3134896.7: [2, 1, 3, 1, 11, 1, 1, 14, 2147, 140, 1522, 1781, 2552], 3349875.4: [1, 3, 2, 1, 1, 3, 1, 1, 1, 1, 1, 1, 2, 1, 1, 451, 3727, 1, 1, 1, 1, 3004], 3349876.5: [1, 1, 1, 1, 3153, 1, 3, 1, 1, 1, 2, 1, 1, 1, 1, 1, 1, 1, 1, 1, 1, 1, 1048, 2380], 446679.11: [3323, 1, 1, 1, 1, 383, 1, 1, 1, 3, 1, 1, 2, 1, 2, 2, 1, 1, 1, 2, 1, 1, 3070], 449208.14: [1, 1, 2, 1, 1, 1, 1, 1, 1, 1, 2, 3, 1, 1, 1, 1, 1, 1, 5, 1, 4491, 1, 1, 2, 18, 2226, 437, 238], 63737.69: [1, 1, 1, 1, 1, 2, 1, 1, 1, 1, 1, 1, 1, 1, 1, 1, 1, 3, 1, 3461, 1207, 1, 1, 1, 1, 3163], 76335.23: [1, 1, 1, 1, 2460, 2302, 1, 3, 1, 1, 1, 1, 1, 1, 1, 1, 1, 1, 1, 2, 1, 1, 1, 1, 2051]}\n"
     ]
    }
   ],
   "source": [
    "# Calculamos las diferencias para cada genoma con circularidad\n",
    "resultados_diferencias_scytonemin = {}\n",
    "\n",
    "for genome_id, posiciones in genes_scytonemin.items():\n",
    "    num_genes = numero_genes[numero_genes[\"genome_id\"] == genome_id][\"number_of_genes\"].item()# Usamos el número total de genes\n",
    "    # Calculamos las diferencias para cada genoma considerando la circularidad\n",
    "    resultados_diferencias_scytonemin[genome_id] = calcular_diferencias_circulares(posiciones, num_genes)\n",
    "\n",
    "print(resultados_diferencias_scytonemin)"
   ]
  },
  {
   "cell_type": "markdown",
   "id": "3c3d0af2-9688-4930-a13a-d15c5d6e1578",
   "metadata": {},
   "source": [
    "### Ejemplo de como funciona el código"
   ]
  },
  {
   "cell_type": "code",
   "execution_count": 22,
   "id": "eab43ae7-751f-4fec-bda3-7e7b631209e0",
   "metadata": {},
   "outputs": [
    {
     "name": "stdout",
     "output_type": "stream",
     "text": [
      "genome_id: 103690.82\n",
      "genes copia: {103690.82: [446, 1364, 1440, 2280, 2281, 2547, 2562, 2772, 3614, 3879, 4087, 4164, 4265, 4537, 4984, 5106, 5242, 5250]}\n",
      "número total de genes: 5854\n",
      "diferencias en número de genes {103690.82: [918, 76, 840, 1, 266, 15, 210, 842, 265, 208, 77, 101, 272, 447, 122, 136, 8, 1050]}\n"
     ]
    }
   ],
   "source": [
    "# Datos de prueba\n",
    "genome_id = 103690.82\n",
    "genes_copia_prueba =  {\n",
    "    103690.82: [446, 1364, 1440, 2280, 2281, 2547, 2562, 2772, \n",
    "                3614, 3879, 4087, 4164, 4265, 4537, 4984, 5106, 5242, 5250]\n",
    "}\n",
    "num_genes = numero_genes.loc[numero_genes['genome_id'] == 103690.82, 'number_of_genes'].item()\n",
    "print(\"genome_id:\",genome_id)\n",
    "print(\"genes copia:\",genes_copia_prueba)\n",
    "print(\"número total de genes:\",num_genes)\n",
    "\n",
    "resultado_test = {}\n",
    "# Ejecutamos la función\n",
    "resultado_test[genome_id] = calcular_diferencias_circulares(genes_copia_prueba[genome_id], num_genes)\n",
    "\n",
    "# Mostramos el resultado\n",
    "print(\"diferencias en número de genes\",resultado_test)\n"
   ]
  },
  {
   "cell_type": "markdown",
   "id": "46649fba-ad88-4655-b4ed-4620cc5042c4",
   "metadata": {},
   "source": [
    "## Estadísticas descriptivas para cada uno de los 18 genomas"
   ]
  },
  {
   "cell_type": "markdown",
   "id": "ce673fc1-b289-4ea5-8cdf-dbf26ede990a",
   "metadata": {},
   "source": [
    "### k-means"
   ]
  },
  {
   "cell_type": "code",
   "execution_count": 26,
   "id": "31ffb6d2-64d4-47e9-8de1-de9cbad37e6c",
   "metadata": {},
   "outputs": [
    {
     "data": {
      "text/html": [
       "<div>\n",
       "<style scoped>\n",
       "    .dataframe tbody tr th:only-of-type {\n",
       "        vertical-align: middle;\n",
       "    }\n",
       "\n",
       "    .dataframe tbody tr th {\n",
       "        vertical-align: top;\n",
       "    }\n",
       "\n",
       "    .dataframe thead th {\n",
       "        text-align: right;\n",
       "    }\n",
       "</style>\n",
       "<table border=\"1\" class=\"dataframe\">\n",
       "  <thead>\n",
       "    <tr style=\"text-align: right;\">\n",
       "      <th></th>\n",
       "      <th>media (KB)</th>\n",
       "      <th>mediana (KB)</th>\n",
       "      <th>desviación estándar (KB)</th>\n",
       "      <th>máximo (KB)</th>\n",
       "      <th>mínimo (KB)</th>\n",
       "    </tr>\n",
       "  </thead>\n",
       "  <tbody>\n",
       "    <tr>\n",
       "      <th>1472755.90</th>\n",
       "      <td>308.291667</td>\n",
       "      <td>1.0</td>\n",
       "      <td>1258.505859</td>\n",
       "      <td>6136</td>\n",
       "      <td>1</td>\n",
       "    </tr>\n",
       "    <tr>\n",
       "      <th>1618022.90</th>\n",
       "      <td>299.125000</td>\n",
       "      <td>1.0</td>\n",
       "      <td>803.437469</td>\n",
       "      <td>3508</td>\n",
       "      <td>1</td>\n",
       "    </tr>\n",
       "    <tr>\n",
       "      <th>1751286.15</th>\n",
       "      <td>735.250000</td>\n",
       "      <td>1.5</td>\n",
       "      <td>1359.624187</td>\n",
       "      <td>3128</td>\n",
       "      <td>1</td>\n",
       "    </tr>\n",
       "    <tr>\n",
       "      <th>1914872.23</th>\n",
       "      <td>636.000000</td>\n",
       "      <td>1.5</td>\n",
       "      <td>1515.941386</td>\n",
       "      <td>4334</td>\n",
       "      <td>1</td>\n",
       "    </tr>\n",
       "    <tr>\n",
       "      <th>2038116.21</th>\n",
       "      <td>401.391304</td>\n",
       "      <td>1.0</td>\n",
       "      <td>1236.625825</td>\n",
       "      <td>4655</td>\n",
       "      <td>1</td>\n",
       "    </tr>\n",
       "    <tr>\n",
       "      <th>2572090.70</th>\n",
       "      <td>320.416667</td>\n",
       "      <td>1.0</td>\n",
       "      <td>934.038306</td>\n",
       "      <td>3775</td>\n",
       "      <td>0</td>\n",
       "    </tr>\n",
       "    <tr>\n",
       "      <th>2576902.60</th>\n",
       "      <td>1221.666667</td>\n",
       "      <td>1.0</td>\n",
       "      <td>1982.108339</td>\n",
       "      <td>4602</td>\n",
       "      <td>1</td>\n",
       "    </tr>\n",
       "    <tr>\n",
       "      <th>2576903.50</th>\n",
       "      <td>290.080000</td>\n",
       "      <td>1.0</td>\n",
       "      <td>813.976654</td>\n",
       "      <td>2918</td>\n",
       "      <td>1</td>\n",
       "    </tr>\n",
       "    <tr>\n",
       "      <th>2653204.70</th>\n",
       "      <td>301.681818</td>\n",
       "      <td>1.0</td>\n",
       "      <td>917.456909</td>\n",
       "      <td>3215</td>\n",
       "      <td>1</td>\n",
       "    </tr>\n",
       "    <tr>\n",
       "      <th>2764711.14</th>\n",
       "      <td>949.714286</td>\n",
       "      <td>2.0</td>\n",
       "      <td>1735.921054</td>\n",
       "      <td>4416</td>\n",
       "      <td>1</td>\n",
       "    </tr>\n",
       "    <tr>\n",
       "      <th>3025190.14</th>\n",
       "      <td>289.041667</td>\n",
       "      <td>1.0</td>\n",
       "      <td>690.477307</td>\n",
       "      <td>2708</td>\n",
       "      <td>1</td>\n",
       "    </tr>\n",
       "    <tr>\n",
       "      <th>3134896.70</th>\n",
       "      <td>628.923077</td>\n",
       "      <td>11.0</td>\n",
       "      <td>978.460394</td>\n",
       "      <td>2552</td>\n",
       "      <td>1</td>\n",
       "    </tr>\n",
       "    <tr>\n",
       "      <th>3349875.40</th>\n",
       "      <td>327.590909</td>\n",
       "      <td>1.0</td>\n",
       "      <td>994.198393</td>\n",
       "      <td>3727</td>\n",
       "      <td>1</td>\n",
       "    </tr>\n",
       "    <tr>\n",
       "      <th>3349876.50</th>\n",
       "      <td>275.208333</td>\n",
       "      <td>1.0</td>\n",
       "      <td>804.508869</td>\n",
       "      <td>3153</td>\n",
       "      <td>1</td>\n",
       "    </tr>\n",
       "    <tr>\n",
       "      <th>446679.11</th>\n",
       "      <td>295.739130</td>\n",
       "      <td>1.0</td>\n",
       "      <td>919.543870</td>\n",
       "      <td>3323</td>\n",
       "      <td>1</td>\n",
       "    </tr>\n",
       "    <tr>\n",
       "      <th>449208.14</th>\n",
       "      <td>265.785714</td>\n",
       "      <td>1.0</td>\n",
       "      <td>930.833571</td>\n",
       "      <td>4491</td>\n",
       "      <td>1</td>\n",
       "    </tr>\n",
       "    <tr>\n",
       "      <th>63737.69</th>\n",
       "      <td>302.192308</td>\n",
       "      <td>1.0</td>\n",
       "      <td>917.946579</td>\n",
       "      <td>3461</td>\n",
       "      <td>1</td>\n",
       "    </tr>\n",
       "    <tr>\n",
       "      <th>76335.23</th>\n",
       "      <td>273.520000</td>\n",
       "      <td>1.0</td>\n",
       "      <td>755.179566</td>\n",
       "      <td>2460</td>\n",
       "      <td>1</td>\n",
       "    </tr>\n",
       "  </tbody>\n",
       "</table>\n",
       "</div>"
      ],
      "text/plain": [
       "             media (KB)  mediana (KB)  desviación estándar (KB)  máximo (KB)  \\\n",
       "1472755.90   308.291667           1.0               1258.505859         6136   \n",
       "1618022.90   299.125000           1.0                803.437469         3508   \n",
       "1751286.15   735.250000           1.5               1359.624187         3128   \n",
       "1914872.23   636.000000           1.5               1515.941386         4334   \n",
       "2038116.21   401.391304           1.0               1236.625825         4655   \n",
       "2572090.70   320.416667           1.0                934.038306         3775   \n",
       "2576902.60  1221.666667           1.0               1982.108339         4602   \n",
       "2576903.50   290.080000           1.0                813.976654         2918   \n",
       "2653204.70   301.681818           1.0                917.456909         3215   \n",
       "2764711.14   949.714286           2.0               1735.921054         4416   \n",
       "3025190.14   289.041667           1.0                690.477307         2708   \n",
       "3134896.70   628.923077          11.0                978.460394         2552   \n",
       "3349875.40   327.590909           1.0                994.198393         3727   \n",
       "3349876.50   275.208333           1.0                804.508869         3153   \n",
       "446679.11    295.739130           1.0                919.543870         3323   \n",
       "449208.14    265.785714           1.0                930.833571         4491   \n",
       "63737.69     302.192308           1.0                917.946579         3461   \n",
       "76335.23     273.520000           1.0                755.179566         2460   \n",
       "\n",
       "            mínimo (KB)  \n",
       "1472755.90            1  \n",
       "1618022.90            1  \n",
       "1751286.15            1  \n",
       "1914872.23            1  \n",
       "2038116.21            1  \n",
       "2572090.70            0  \n",
       "2576902.60            1  \n",
       "2576903.50            1  \n",
       "2653204.70            1  \n",
       "2764711.14            1  \n",
       "3025190.14            1  \n",
       "3134896.70            1  \n",
       "3349875.40            1  \n",
       "3349876.50            1  \n",
       "446679.11             1  \n",
       "449208.14             1  \n",
       "63737.69              1  \n",
       "76335.23              1  "
      ]
     },
     "execution_count": 26,
     "metadata": {},
     "output_type": "execute_result"
    }
   ],
   "source": [
    "import numpy as np\n",
    "# Crear un nuevo diccionario para almacenar las estadísticas\n",
    "estadisticas_scytonemin = {}\n",
    "\n",
    "# Calcular estadísticas para cada genoma\n",
    "for id_genoma, diferencias in resultados_diferencias_scytonemin.items():\n",
    "    diferencias = np.array(diferencias)  # Convertir a un array de NumPy para evitar errores\n",
    "    estadisticas_scytonemin[id_genoma] = {\n",
    "        'media (KB)': np.mean(diferencias) if diferencias.size > 0 else np.nan,\n",
    "        'mediana (KB)': np.median(diferencias) if diferencias.size > 0 else np.nan,\n",
    "        'desviación estándar (KB)': np.std(diferencias, ddof=1) if diferencias.size > 1 else np.nan,\n",
    "        'máximo (KB)': np.max(diferencias) if diferencias.size > 0 else np.nan,\n",
    "        'mínimo (KB)': np.min(diferencias) if diferencias.size > 0 else np.nan\n",
    "    }\n",
    "\n",
    "# Convertir a DataFrame\n",
    "df_estadisticas_scytonemin = pd.DataFrame.from_dict(estadisticas_scytonemin, orient='index')\n",
    "\n",
    "# Mostrar el DataFrame\n",
    "df_estadisticas_scytonemin"
   ]
  },
  {
   "cell_type": "markdown",
   "id": "b284b3a6-a537-4ac3-913f-a56fb3e5a187",
   "metadata": {},
   "source": [
    "## Estadisticas globales"
   ]
  },
  {
   "cell_type": "markdown",
   "id": "d5c677ed-4f3e-4e8e-a953-8e6abc8fad2d",
   "metadata": {},
   "source": [
    "### k-means"
   ]
  },
  {
   "cell_type": "code",
   "execution_count": 27,
   "id": "4df2e42c-f3fa-4bbd-be66-eafc7f9037ea",
   "metadata": {},
   "outputs": [
    {
     "name": "stdout",
     "output_type": "stream",
     "text": [
      "Estadísticas globales:\n",
      "  media (KB): 360.12\n",
      "  mediana (KB): 1.00\n",
      "  desviación estándar (KB): 993.07\n",
      "  máximo (KB): 6136.00\n",
      "  mínimo (KB): 0.00\n"
     ]
    }
   ],
   "source": [
    "# Concatenar todas las diferencias en una sola lista\n",
    "todas_diferencias_scytonemin = np.concatenate(list(resultados_diferencias_scytonemin.values()))\n",
    "\n",
    "# Calcular estadísticas globales\n",
    "estadisticas_globales_scytonemin = {\n",
    "    'media (KB)': np.mean(todas_diferencias_scytonemin),\n",
    "    'mediana (KB)': np.median(todas_diferencias_scytonemin),\n",
    "    'desviación estándar (KB)': np.std(todas_diferencias_scytonemin),\n",
    "    'máximo (KB)': np.max(todas_diferencias_scytonemin),\n",
    "    'mínimo (KB)': np.min(todas_diferencias_scytonemin)\n",
    "}\n",
    "\n",
    "# Mostrar estadísticas globales\n",
    "print('Estadísticas globales:')\n",
    "for key, value in estadisticas_globales_scytonemin.items():\n",
    "    print(f'  {key}: {value:.2f}')"
   ]
  },
  {
   "cell_type": "markdown",
   "id": "6a6d89eb-4f8f-4fdb-8839-5c1030727deb",
   "metadata": {},
   "source": [
    "## Exportar los datos "
   ]
  },
  {
   "cell_type": "code",
   "execution_count": 32,
   "id": "a75a0428-1052-4227-b0b9-803c4c9f4229",
   "metadata": {},
   "outputs": [],
   "source": [
    "import pickle \n",
    "## Guardar el df * * en un archivo .csv para poder importarlo para el siguiente notebook\n",
    "# Guardar como pkl\n",
    "# Guardar el diccionario en un archivo\n",
    "with open('resultados_en_numero_genes_scytonemin.pkl', 'wb') as file:\n",
    "    pickle.dump(resultados_diferencias_scytonemin, file)"
   ]
  },
  {
   "cell_type": "code",
   "execution_count": 28,
   "id": "6da3e3ca-437d-44a1-832f-872bc7705cb2",
   "metadata": {},
   "outputs": [
    {
     "data": {
      "application/javascript": [
       "IPython.notebook.set_autosave_interval(30000)"
      ]
     },
     "metadata": {},
     "output_type": "display_data"
    },
    {
     "name": "stdout",
     "output_type": "stream",
     "text": [
      "Autosaving every 30 seconds\n"
     ]
    }
   ],
   "source": [
    "%autosave 30"
   ]
  },
  {
   "cell_type": "code",
   "execution_count": 33,
   "id": "172209ed-a5c9-40d4-ad04-bbd91591a790",
   "metadata": {},
   "outputs": [
    {
     "name": "stdout",
     "output_type": "stream",
     "text": [
      "<class 'dict'>\n",
      "18\n"
     ]
    }
   ],
   "source": [
    "print(type(resultados_diferencias_scytonemin))\n",
    "print(len(resultados_diferencias_scytonemin))\n"
   ]
  },
  {
   "cell_type": "code",
   "execution_count": null,
   "id": "8ccbe6e4-df32-47d3-8d6c-99df15a69401",
   "metadata": {},
   "outputs": [],
   "source": []
  }
 ],
 "metadata": {
  "kernelspec": {
   "display_name": "Python 3 (ipykernel)",
   "language": "python",
   "name": "python3"
  },
  "language_info": {
   "codemirror_mode": {
    "name": "ipython",
    "version": 3
   },
   "file_extension": ".py",
   "mimetype": "text/x-python",
   "name": "python",
   "nbconvert_exporter": "python",
   "pygments_lexer": "ipython3",
   "version": "3.10.10"
  }
 },
 "nbformat": 4,
 "nbformat_minor": 5
}
